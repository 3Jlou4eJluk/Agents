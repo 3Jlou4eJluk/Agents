{
 "cells": [
  {
   "cell_type": "code",
   "execution_count": 3,
   "id": "6eb9b226",
   "metadata": {},
   "outputs": [],
   "source": [
    "import pandas as pd\n",
    "\n",
    "\n",
    "def get_lead(path: str, lead_no: int, enable_filter: bool = False) -> dict:\n",
    "    \"\"\"\n",
    "    Получить lead из JSON файла по номеру\n",
    "    \n",
    "    Args:\n",
    "        path: путь к JSON файлу с leads\n",
    "        lead_no: номер lead (индекс в массиве)\n",
    "        enable_filter: если True, возвращает только relevant leads\n",
    "    \n",
    "    Returns:\n",
    "        dict с данными lead\n",
    "    \"\"\"\n",
    "    df = pd.read_json(path)\n",
    "    \n",
    "    if enable_filter:\n",
    "        df = df[df['is_relevant'] == True]\n",
    "        df = df.reset_index(drop=True)\n",
    "    \n",
    "    if lead_no >= len(df):\n",
    "        raise IndexError(f\"Lead номер {lead_no} не найден. Всего leads: {len(df)}\")\n",
    "    \n",
    "    return df.iloc[lead_no].to_dict()\n",
    "\n",
    "\n",
    "def find_lead_by_name(path: str, name: str, enable_filter: bool = False) -> list[dict]:\n",
    "    \"\"\"\n",
    "    Найти leads по имени (точное совпадение, без учета регистра)\n",
    "    \n",
    "    Args:\n",
    "        path: путь к JSON файлу с leads\n",
    "        name: имя для поиска\n",
    "        enable_filter: если True, ищет только среди relevant leads\n",
    "    \n",
    "    Returns:\n",
    "        список словарей с найденными leads\n",
    "    \"\"\"\n",
    "    df = pd.read_json(path)\n",
    "    \n",
    "    if enable_filter:\n",
    "        df = df[df['is_relevant'] == True]\n",
    "    \n",
    "    # Поиск без учета регистра\n",
    "    found = df[df['name'].str.lower() == name.lower()]\n",
    "    \n",
    "    if found.empty:\n",
    "        return []\n",
    "    \n",
    "    return found.to_dict('records')"
   ]
  },
  {
   "cell_type": "code",
   "execution_count": null,
   "id": "312b18fc",
   "metadata": {},
   "outputs": [
    {
     "data": {
      "text/plain": [
       "{'email': 'scott.craig@getlavanda.com',\n",
       " 'name': 'Scott Craig',\n",
       " 'company': 'Lavanda',\n",
       " 'job_title': 'VP of Customer Success',\n",
       " 'linkedin_url': 'linkedin.com/in/scottcraiguk',\n",
       " 'is_relevant': True,\n",
       " 'classification_reason': 'VP of Customer Success at Lavanda with experience scaling global teams, certified in customer success management, and working in a B2B SaaS environment. His role involves managing customer support operations, process improvement, and team leadership where ticket handling, knowledge management, and operational efficiency are critical pain points. The company context suggests scaling challenges typical of growing SaaS companies within the target size range, and his senior position indicates decision-making authority for tools and processes.',\n",
       " 'analysis': None,\n",
       " 'enriched_data': {'url': 'https://linkedin.com/in/scottcraiguk',\n",
       "  'content': \"                     Scott Craig - Lavanda | LinkedIn                         [Skip to main content](#main-content)\\n\\n[LinkedIn](/?trk=public_profile_nav-header-logo)\\n\\n*   [Articles](https://www.linkedin.com/pulse/topics/home/?trk=public_profile_guest_nav_menu_articles)\\n*   [People](https://nl.linkedin.com/pub/dir/+/+?trk=public_profile_guest_nav_menu_people)\\n*   [Learning](https://nl.linkedin.com/learning/search?trk=public_profile_guest_nav_menu_learning)\\n*   [Jobs](https://nl.linkedin.com/jobs/jobs-in-oshawa-on?trk=public_profile_guest_nav_menu_jobs)\\n*   [Games](https://www.linkedin.com/games?trk=public_profile_guest_nav_menu_games)\\n*   [Get the app](ms-windows-store://pdp/?ProductId=9WZDNCRFJ4Q7&mode=mini&cid=guest_nav_upsell&trk=public_profile_guest_nav_menu_windows)\\n\\n[Sign in](https://www.linkedin.com/login?session_redirect=https%3A%2F%2Fuk%2Elinkedin%2Ecom%2Fin%2Fscottcraiguk&fromSignIn=true&trk=public_profile_nav-header-signin) [Join now](https://www.linkedin.com/signup/public-profile-join?vieweeVanityName=scottcraiguk&session_redirect=https%3A%2F%2Fuk.linkedin.com%2Fin%2Fscottcraiguk&trk=public_profile_nav-header-join) [![](https://static.licdn.com/aero-v1/sc/h/9c8pery4andzj6ohjkjp54ma2)](https://www.linkedin.com/login?session_redirect=https%3A%2F%2Fuk%2Elinkedin%2Ecom%2Fin%2Fscottcraiguk&fromSignIn=true&trk=public_profile_nav-header-signin)\\n\\n![](https://media.licdn.com/dms/image/v2/D5616AQHcqHnCA0-jCA/profile-displaybackgroundimage-shrink_200_800/profile-displaybackgroundimage-shrink_200_800/0/1679605004206?e=2147483647&v=beta&t=HxivfyX66W-OAO-kLU6FLLc1YDqWjBLfmWi3HulpGVI)\\n\\n![Scott Craig](https://static.licdn.com/aero-v1/sc/h/9c8pery4andzj6ohjkjp54ma2) \\n\\n# Scott Craig\\n\\n![](https://static.licdn.com/aero-v1/sc/h/9c8pery4andzj6ohjkjp54ma2)\\n\\n## Sign in to view Scott’s full profile\\n\\nSign in\\n\\n## Welcome back\\n\\nEmail or phone\\n\\nPassword\\n\\n Show\\n\\n \\n\\n[Forgot password?](https://www.linkedin.com/uas/request-password-reset?trk=public_profile_top-card_title-modal_contextual-sign-in-modal_sign-in-modal_forgot_password)  Sign in\\n\\nor\\n\\nBy clicking Continue to join or sign in, you agree to LinkedIn’s [User Agreement](/legal/user-agreement?trk=public_profile_top-card_title-modal_contextual-sign-in-modal_sign-in-modal_auth-button_user-agreement), [Privacy Policy](/legal/privacy-policy?trk=public_profile_top-card_title-modal_contextual-sign-in-modal_sign-in-modal_auth-button_privacy-policy), and [Cookie Policy](/legal/cookie-policy?trk=public_profile_top-card_title-modal_contextual-sign-in-modal_sign-in-modal_auth-button_cookie-policy).\\n\\nNew to LinkedIn? [Join now](https://www.linkedin.com/signup/public-profile-join?vieweeVanityName=scottcraiguk&trk=public_profile_top-card_title-modal_contextual-sign-in-modal_sign-in-modal_join-link)\\n\\nor\\n\\nNew to LinkedIn? [Join now](https://www.linkedin.com/signup/public-profile-join?vieweeVanityName=scottcraiguk&trk=public_profile_top-card_title-modal_contextual-sign-in-modal_join-link)\\n\\nBy clicking Continue to join or sign in, you agree to LinkedIn’s [User Agreement](/legal/user-agreement?trk=linkedin-tc_auth-button_user-agreement), [Privacy Policy](/legal/privacy-policy?trk=linkedin-tc_auth-button_privacy-policy), and [Cookie Policy](/legal/cookie-policy?trk=linkedin-tc_auth-button_cookie-policy).\\n\\n### \\n\\nGreater Oxford Area Contact Info\\n\\n![](https://static.licdn.com/aero-v1/sc/h/9c8pery4andzj6ohjkjp54ma2)\\n\\n## Sign in to view Scott’s full profile\\n\\nSign in\\n\\n## Welcome back\\n\\nEmail or phone\\n\\nPassword\\n\\n Show\\n\\n \\n\\n[Forgot password?](https://www.linkedin.com/uas/request-password-reset?trk=public_profile_profile-info-subheader_contact-info_modal_contextual-sign-in-modal_sign-in-modal_forgot_password)  Sign in\\n\\nor\\n\\nBy clicking Continue to join or sign in, you agree to LinkedIn’s [User Agreement](/legal/user-agreement?trk=public_profile_profile-info-subheader_contact-info_modal_contextual-sign-in-modal_sign-in-modal_auth-button_user-agreement), [Privacy Policy](/legal/privacy-policy?trk=public_profile_profile-info-subheader_contact-info_modal_contextual-sign-in-modal_sign-in-modal_auth-button_privacy-policy), and [Cookie Policy](/legal/cookie-policy?trk=public_profile_profile-info-subheader_contact-info_modal_contextual-sign-in-modal_sign-in-modal_auth-button_cookie-policy).\\n\\nNew to LinkedIn? [Join now](https://www.linkedin.com/signup/public-profile-join?vieweeVanityName=scottcraiguk&trk=public_profile_profile-info-subheader_contact-info_modal_contextual-sign-in-modal_sign-in-modal_join-link)\\n\\nor\\n\\nNew to LinkedIn? [Join now](https://www.linkedin.com/signup/public-profile-join?vieweeVanityName=scottcraiguk&trk=public_profile_profile-info-subheader_contact-info_modal_contextual-sign-in-modal_join-link)\\n\\nBy clicking Continue to join or sign in, you agree to LinkedIn’s [User Agreement](/legal/user-agreement?trk=linkedin-tc_auth-button_user-agreement), [Privacy Policy](/legal/privacy-policy?trk=linkedin-tc_auth-button_privacy-policy), and [Cookie Policy](/legal/cookie-policy?trk=linkedin-tc_auth-button_cookie-policy).\\n\\n3K followers 500+ connections\\n\\n#### \\n\\n![](https://static.licdn.com/aero-v1/sc/h/1r5y4gyavxb048v7fvnl06mjs) ![](https://static.licdn.com/aero-v1/sc/h/bzm35e3651eojcpnxxuyvpjpo) ![](https://static.licdn.com/aero-v1/sc/h/224mq0thanhnrp5hhso7l1k9p)\\n\\nSee your mutual connections\\n\\n![](https://static.licdn.com/aero-v1/sc/h/9c8pery4andzj6ohjkjp54ma2)\\n\\n## View mutual connections with Scott\\n\\nSign in\\n\\n## Welcome back\\n\\nEmail or phone\\n\\nPassword\\n\\n Show\\n\\n \\n\\n[Forgot password?](https://www.linkedin.com/uas/request-password-reset?trk=public_profile_mutual-connections_contextual-sign-in-modal_sign-in-modal_forgot_password)  Sign in\\n\\nor\\n\\nBy clicking Continue to join or sign in, you agree to LinkedIn’s [User Agreement](/legal/user-agreement?trk=public_profile_mutual-connections_contextual-sign-in-modal_sign-in-modal_auth-button_user-agreement), [Privacy Policy](/legal/privacy-policy?trk=public_profile_mutual-connections_contextual-sign-in-modal_sign-in-modal_auth-button_privacy-policy), and [Cookie Policy](/legal/cookie-policy?trk=public_profile_mutual-connections_contextual-sign-in-modal_sign-in-modal_auth-button_cookie-policy).\\n\\nNew to LinkedIn? [Join now](https://www.linkedin.com/signup/public-profile-join?vieweeVanityName=scottcraiguk&trk=public_profile_mutual-connections_contextual-sign-in-modal_sign-in-modal_join-link)\\n\\nor\\n\\nNew to LinkedIn? [Join now](https://www.linkedin.com/signup/public-profile-join?vieweeVanityName=scottcraiguk&trk=public_profile_mutual-connections_contextual-sign-in-modal_join-link)\\n\\nBy clicking Continue to join or sign in, you agree to LinkedIn’s [User Agreement](/legal/user-agreement?trk=linkedin-tc_auth-button_user-agreement), [Privacy Policy](/legal/privacy-policy?trk=linkedin-tc_auth-button_privacy-policy), and [Cookie Policy](/legal/cookie-policy?trk=linkedin-tc_auth-button_cookie-policy).\\n\\n[Join to view profile](https://www.linkedin.com/signup/public-profile-join?vieweeVanityName=scottcraiguk&trk=public_profile_top-card-primary-button-join-to-view-profile)\\n\\nMessage\\n\\n![](https://static.licdn.com/aero-v1/sc/h/9c8pery4andzj6ohjkjp54ma2)\\n\\n## Sign in to view Scott’s full profile\\n\\nSign in\\n\\n## Welcome back\\n\\nEmail or phone\\n\\nPassword\\n\\n Show\\n\\n \\n\\n[Forgot password?](https://www.linkedin.com/uas/request-password-reset?trk=public_profile_top-card_secondary-cta-modal_contextual-sign-in-modal_sign-in-modal_forgot_password)  Sign in\\n\\nor\\n\\nBy clicking Continue to join or sign in, you agree to LinkedIn’s [User Agreement](/legal/user-agreement?trk=public_profile_top-card_secondary-cta-modal_contextual-sign-in-modal_sign-in-modal_auth-button_user-agreement), [Privacy Policy](/legal/privacy-policy?trk=public_profile_top-card_secondary-cta-modal_contextual-sign-in-modal_sign-in-modal_auth-button_privacy-policy), and [Cookie Policy](/legal/cookie-policy?trk=public_profile_top-card_secondary-cta-modal_contextual-sign-in-modal_sign-in-modal_auth-button_cookie-policy).\\n\\nNew to LinkedIn? [Join now](https://www.linkedin.com/signup/public-profile-join?vieweeVanityName=scottcraiguk&trk=public_profile_top-card_secondary-cta-modal_contextual-sign-in-modal_sign-in-modal_join-link)\\n\\nor\\n\\nNew to LinkedIn? [Join now](https://www.linkedin.com/signup/public-profile-join?vieweeVanityName=scottcraiguk&trk=public_profile_top-card_secondary-cta-modal_contextual-sign-in-modal_join-link)\\n\\nBy clicking Continue to join or sign in, you agree to LinkedIn’s [User Agreement](/legal/user-agreement?trk=linkedin-tc_auth-button_user-agreement), [Privacy Policy](/legal/privacy-policy?trk=linkedin-tc_auth-button_privacy-policy), and [Cookie Policy](/legal/cookie-policy?trk=linkedin-tc_auth-button_cookie-policy).\\n\\n [![](https://media.licdn.com/dms/image/v2/C4E0BAQHz-jiJv_MF9g/company-logo_100_100/company-logo_100_100/0/1669985126706/lavanda_logo?e=2147483647&v=beta&t=z8z_8iYCsB-TSaILSrkDQa8OKrsNmjc6GXxKQI_DM-g) Lavanda](https://uk.linkedin.com/company/lavanda?trk=public_profile_topcard-current-company)\\n\\n [![](https://media.licdn.com/dms/image/v2/D4E0BAQGtK3Zfp0Hv7g/company-logo_100_100/B4EZfU.ZBvHcAQ-/0/1751624815228?e=2147483647&v=beta&t=gL5nIHnYrQFZq-1ISaqc-Adkj2sde0lRGcC29FzhHKQ) University of Portsmouth](https://uk.linkedin.com/school/university-of-portsmouth/?trk=public_profile_topcard-school)\\n\\n [![](https://static.licdn.com/aero-v1/sc/h/9o8qqup6da04vhqijz8ft1j5g) Company Website ![](https://static.licdn.com/aero-v1/sc/h/8w0vew433o9nluoruq9k5eqy)](https://www.linkedin.com/redir/redirect?url=http%3A%2F%2Fwww%2Evts%2Ecom%2F&urlhash=oElv&trk=public_profile_topcard-website) \\n\\n*   [Report this profile](https://www.linkedin.com/uas/login?fromSignIn=true&session_redirect=https%3A%2F%2Fuk.linkedin.com%2Fin%2Fscottcraiguk&trk=public_profile_ellipsis-menu-semaphore-sign-in-redirect&guestReportContentType=PROFILE&_f=guest-reporting)\\n\\n## About\\n\\nI’m an experienced Customer Success leader passionate about scaling global teams…\\n\\nsee more\\n\\n## Welcome back\\n\\nEmail or phone\\n\\nPassword\\n\\n Show\\n\\n \\n\\n[Forgot password?](https://nl.linkedin.com/uas/request-password-reset?trk=public_profile_sign-in-modal_forgot_password)  Sign in\\n\\nor\\n\\nBy clicking Continue to join or sign in, you agree to LinkedIn’s [User Agreement](/legal/user-agreement?trk=public_profile_sign-in-modal_auth-button_user-agreement), [Privacy Policy](/legal/privacy-policy?trk=public_profile_sign-in-modal_auth-button_privacy-policy), and [Cookie Policy](/legal/cookie-policy?trk=public_profile_sign-in-modal_auth-button_cookie-policy).\\n\\nNew to LinkedIn? [Join now](https://www.linkedin.com/signup/public-profile-join?vieweeVanityName=scottcraiguk&trk=public_profile_sign-in-modal_join-link)\\n\\n## Articles by Scott\\n\\n*   [We're hiring!! Assistant Project Manager - Oxford](https://www.linkedin.com/pulse/were-hiring-assistant-project-manager-oxford-scott-craig)\\n    \\n     \\n    \\n    Dec 2, 2015\\n    \\n    ### We're hiring!! Assistant Project Manager - Oxford\\n    \\n    Locale are hiring! We are looking for an Assistant Project Manager to join the team. Are you a dynamic individual…\\n    \\n     2\\n    \\n\\n## Activity\\n\\n Follow\\n\\n![](https://static.licdn.com/aero-v1/sc/h/9c8pery4andzj6ohjkjp54ma2)\\n\\n## Sign in to view Scott’s full profile\\n\\nSign in\\n\\n## Welcome back\\n\\nEmail or phone\\n\\nPassword\\n\\n Show\\n\\n \\n\\n[Forgot password?](https://www.linkedin.com/uas/request-password-reset?trk=public_profile_follow_contextual-sign-in-modal_sign-in-modal_forgot_password)  Sign in\\n\\nor\\n\\nBy clicking Continue to join or sign in, you agree to LinkedIn’s [User Agreement](/legal/user-agreement?trk=public_profile_follow_contextual-sign-in-modal_sign-in-modal_auth-button_user-agreement), [Privacy Policy](/legal/privacy-policy?trk=public_profile_follow_contextual-sign-in-modal_sign-in-modal_auth-button_privacy-policy), and [Cookie Policy](/legal/cookie-policy?trk=public_profile_follow_contextual-sign-in-modal_sign-in-modal_auth-button_cookie-policy).\\n\\nNew to LinkedIn? [Join now](https://www.linkedin.com/signup/public-profile-join?vieweeVanityName=scottcraiguk&trk=public_profile_follow_contextual-sign-in-modal_sign-in-modal_join-link)\\n\\nor\\n\\nNew to LinkedIn? [Join now](https://www.linkedin.com/signup/public-profile-join?vieweeVanityName=scottcraiguk&trk=public_profile_follow_contextual-sign-in-modal_join-link)\\n\\nBy clicking Continue to join or sign in, you agree to LinkedIn’s [User Agreement](/legal/user-agreement?trk=linkedin-tc_auth-button_user-agreement), [Privacy Policy](/legal/privacy-policy?trk=linkedin-tc_auth-button_privacy-policy), and [Cookie Policy](/legal/cookie-policy?trk=linkedin-tc_auth-button_cookie-policy).\\n\\n*   [For too long, commercial real estate has run on manual processes, fragmented data, and delayed decisions. VTS AI changes that — built on 13B+ square…](https://www.linkedin.com/posts/we-are-vts_for-too-long-commercial-real-estate-has-activity-7384647111965065216-8o5k)\\n    \\n    ### For too long, commercial real estate has run on manual processes, fragmented data, and delayed decisions. VTS AI changes that — built on 13B+ square…\\n    \\n    #### Liked by [Scott Craig](https://uk.linkedin.com/in/scottcraiguk?trk=public_profile_actor-name)\\n    \\n*   [I just took the Workday Rising EMEA Signs quiz and I’m a Catalyst! Catalysts move fast and spark momentum. They lead with energy and activate…](https://www.linkedin.com/posts/garycraig1_wdayrisingemea-activity-7384497859875770368-8g5x)\\n    \\n     \\n    \\n    ### I just took the Workday Rising EMEA Signs quiz and I’m a Catalyst! Catalysts move fast and spark momentum. They lead with energy and activate…\\n    \\n    #### Liked by [Scott Craig](https://uk.linkedin.com/in/scottcraiguk?trk=public_profile_actor-name)\\n    \\n*   [I’ll be heading to The Class Foundation conference in November with Caroline Cockell! Looking forward to what is always a great few days (and…](https://www.linkedin.com/posts/dan-swan-cmgr-mcmi-02287716_behindeverydoor-activity-7384273815502999554-mIsS)\\n    \\n     \\n    \\n    ### I’ll be heading to The Class Foundation conference in November with Caroline Cockell! Looking forward to what is always a great few days (and…\\n    \\n    #### Liked by [Scott Craig](https://uk.linkedin.com/in/scottcraiguk?trk=public_profile_actor-name)\\n    \\n\\n[Join now to see all activity](https://www.linkedin.com/signup/cold-join?session_redirect=https%3A%2F%2Fnl%2Elinkedin%2Ecom%2Fin%2Fscottcraiguk%2Frecent-activity%2F&trk=public_profile_see-all-posts)\\n\\n## Experience & Education\\n\\n*   ### Lavanda\\n    \\n    #### \\n    \\n    \\\\*\\\\*\\\\*\\\\* \\\\*\\\\*\\\\*\\\\*\\\\*\\\\*\\\\*\\\\*\\\\* \\\\*\\\\* \\\\*\\\\*\\\\*\\\\*\\\\*\\\\*\\\\*\\\\* \\\\*\\\\*\\\\*\\\\*\\\\*\\\\*\\\\*\\n    \\n\\n*   ### \\\\*\\\\*\\\\*\\n    \\n    #### \\n    \\n    \\\\*\\\\*\\\\*\\\\*\\\\*\\\\*\\\\*, \\\\*\\\\*\\\\*\\\\*\\\\*\\\\*\\\\*\\\\* \\\\*\\\\*\\\\*\\\\*\\\\*\\\\*\\\\* - \\\\*\\\\*\\\\*\\\\*\\n    \\n*   ### \\\\*\\\\*\\\\*, \\\\*\\\\*\\\\*.\\n    \\n    #### \\n    \\n    \\\\*\\\\*\\\\*\\\\*\\\\*\\\\*\\\\* \\\\*\\\\*\\\\*\\\\*\\\\*\\\\*\\\\*\\\\*\\\\*\\\\* \\\\*\\\\*\\\\*\\\\* \\\\*\\\\*\\\\*\\\\*\\n    \\n*   ### \\\\*\\\\*\\\\*\\\\*\\\\*\\\\*\\\\*\\\\*\\\\*\\\\* \\\\*\\\\* \\\\*\\\\*\\\\*\\\\*\\\\*\\\\*\\\\*\\\\*\\\\*\\\\*\\n    \\n    #### \\n    \\n    \\\\*\\\\*\\\\*\\\\*\\\\*\\\\*\\\\*\\\\* \\\\*\\\\* \\\\*\\\\*\\\\*\\\\*\\\\*\\\\*\\\\* (\\\\*\\\\*\\\\*) \\\\*\\\\*\\\\*\\\\*\\\\*\\\\*\\\\*\\\\*\\\\*\\\\* & \\\\*\\\\*\\\\*\\\\*\\\\*\\\\*\\\\*\\\\*\\\\*\\n    \\n    2004 - 2007\\n    \\n*   ### \\\\*\\\\*\\\\*\\\\*\\\\*\\\\*\\\\*\\\\* \\\\*\\\\*\\\\*\\\\*\\\\*\\\\*\\\\*\\\\*\\\\*\\\\*\\\\* \\\\*\\\\*\\\\*\\\\*\\\\*\\\\* \\\\*\\\\*\\\\*\\\\*\\\\*\\n    \\n    #### \\\\-\\n    \\n\\n## View Scott’s full experience\\n\\n### See their title, tenure and more.\\n\\nSign in\\n\\n## Welcome back\\n\\nEmail or phone\\n\\nPassword\\n\\n Show\\n\\n \\n\\n[Forgot password?](https://nl.linkedin.com/uas/request-password-reset?trk=public_profile_sign-in-modal_forgot_password)  Sign in\\n\\nor\\n\\nBy clicking Continue to join or sign in, you agree to LinkedIn’s [User Agreement](/legal/user-agreement?trk=public_profile_sign-in-modal_auth-button_user-agreement), [Privacy Policy](/legal/privacy-policy?trk=public_profile_sign-in-modal_auth-button_privacy-policy), and [Cookie Policy](/legal/cookie-policy?trk=public_profile_sign-in-modal_auth-button_cookie-policy).\\n\\nNew to LinkedIn? [Join now](https://www.linkedin.com/signup/public-profile-join?vieweeVanityName=scottcraiguk&trk=public_profile_sign-in-modal_join-link)\\n\\nor\\n\\nBy clicking Continue to join or sign in, you agree to LinkedIn’s [User Agreement](/legal/user-agreement?trk=public_profile_auth-button_user-agreement), [Privacy Policy](/legal/privacy-policy?trk=public_profile_auth-button_privacy-policy), and [Cookie Policy](/legal/cookie-policy?trk=public_profile_auth-button_cookie-policy).\\n\\n## Licenses & Certifications\\n\\n*   [](https://www.linkedin.com/company/successhacker?trk=public_profile_profile-section-card_image-click)\\n    \\n    ### [Certified Customer Success Manager (CCSM) Level 1](https://www.credly.com/badges/5377391f-b983-4618-8d39-15e6bc751c92?source=linked_in_profile&trk=public_profile_certification-title)\\n    \\n    #### [SuccessHACKER](https://www.linkedin.com/company/successhacker?trk=public_profile_profile-section-card_subtitle-click)\\n    \\n    Issued Jan 2021\\n    \\n    [See credential](https://www.credly.com/badges/5377391f-b983-4618-8d39-15e6bc751c92?source=linked_in_profile&trk=public_profile_see-credential) \\n    \\n*   [](https://www.linkedin.com/company/successhacker?trk=public_profile_profile-section-card_image-click)\\n    \\n    ### [Certified Customer Success Manager (CCSM) Level 2](https://www.credly.com/badges/a5bd325d-c317-47be-a090-d669381482cc?source=linked_in_profile&trk=public_profile_certification-title)\\n    \\n    #### [SuccessHACKER](https://www.linkedin.com/company/successhacker?trk=public_profile_profile-section-card_subtitle-click)\\n    \\n    Issued Jan 2021\\n    \\n    [See credential](https://www.credly.com/badges/a5bd325d-c317-47be-a090-d669381482cc?source=linked_in_profile&trk=public_profile_see-credential) \\n    \\n*   [](https://www.linkedin.com/company/successhacker?trk=public_profile_profile-section-card_image-click)\\n    \\n    ### [Certified Customer Success Manager (CCSM) Level 4](https://www.credly.com/badges/af3a25e6-63a7-45dc-8f41-0ff461ded4bb?source=linked_in_profile&trk=public_profile_certification-title)\\n    \\n    #### [SuccessHACKER](https://www.linkedin.com/company/successhacker?trk=public_profile_profile-section-card_subtitle-click)\\n    \\n    Issued Jan 2021\\n    \\n    [See credential](https://www.credly.com/badges/af3a25e6-63a7-45dc-8f41-0ff461ded4bb?source=linked_in_profile&trk=public_profile_see-credential) \\n    \\n*   [](https://www.linkedin.com/company/we-are-vts?trk=public_profile_profile-section-card_image-click)\\n    \\n    ### [VTS Administrator Certification](https://verify.skilljar.com/c/q2oiwx2f4fi9?trk=public_profile_certification-title)\\n    \\n    #### [VTS, Inc.](https://www.linkedin.com/company/we-are-vts?trk=public_profile_profile-section-card_subtitle-click)\\n    \\n    Issued Mar 2020 Expires Mar 2021\\n    \\n    Credential ID q2oiwx2f4fi9\\n    \\n    [See credential](https://verify.skilljar.com/c/q2oiwx2f4fi9?trk=public_profile_see-credential) \\n    \\n*   [](https://www.linkedin.com/company/we-are-vts?trk=public_profile_profile-section-card_image-click)\\n    \\n    ### [VTS Fundamentals Certification](https://verify.skilljar.com/c/nd7j46oc4hxa?trk=public_profile_certification-title)\\n    \\n    #### [VTS, Inc.](https://www.linkedin.com/company/we-are-vts?trk=public_profile_profile-section-card_subtitle-click)\\n    \\n    Issued Mar 2020 Expires Mar 2021\\n    \\n    Credential ID nd7j46oc4hxa\\n    \\n    [See credential](https://verify.skilljar.com/c/nd7j46oc4hxa?trk=public_profile_see-credential) \\n    \\n\\n## Languages\\n\\n*   ### Spanish\\n    \\n    #### Elementary proficiency\\n    \\n\\n## Recommendations received\\n\\n*   [\\n    \\n    ### Manfred de Jong\\n    \\n    “Scott is a likable person that will easily find ways to connect. Scott helped our organization throughout the implementation of Gatekeeper. His response was always quick, to the point and helpful. I'm confident that Scott will stand out in your organization also!”\\n    \\n    \\n    \\n    \\n    \\n    ](https://nl.linkedin.com/in/mrdejong?trk=public_profile_recommendations)\\n    \\n*   [\\n    \\n    ### Nilesh Mistry\\n    \\n    “Scott commands a very friendly and professional attitude to service his clients. He is very detailed and offers support over and beyond any other recruitment consultant, I have delt with. A very jolly and mixing character, with a big heart. A pleasure to deal with and have as a friend.”\\n    \\n    \\n    \\n    \\n    \\n    ](https://uk.linkedin.com/in/nilesh-mistry-0b88259?trk=public_profile_recommendations)\\n    \\n\\n3 people have recommended Scott\\n\\n[Join now to view](https://www.linkedin.com/signup/public-profile-join?vieweeVanityName=scottcraiguk&trk=public_profile_recommendations)\\n\\n## More activity by Scott\\n\\n*   [When your team can lead without you, that’s leadership. The true measure of leadership isn’t how many clients you retain. It’s how many leaders you…](https://www.linkedin.com/posts/tim-ramos_leadership-clientsuccess-globalteams-activity-7383664987162177536-D3v3)\\n    \\n     \\n    \\n    ### When your team can lead without you, that’s leadership. The true measure of leadership isn’t how many clients you retain. It’s how many leaders you…\\n    \\n    #### Liked by [Scott Craig](https://uk.linkedin.com/in/scottcraiguk?trk=public_profile_actor-name)\\n    \\n*   [A fundamental shift in time to value for our customers. The MCP is not just a buzz word but transforms something overnight that we’ve been trying to…](https://www.linkedin.com/posts/scottcraiguk_lavanda-launches-ai-powered-mcp-server-to-activity-7384184921730211840-WOZE)\\n    \\n     \\n    \\n    ### A fundamental shift in time to value for our customers. The MCP is not just a buzz word but transforms something overnight that we’ve been trying to…\\n    \\n    #### Shared by [Scott Craig](https://uk.linkedin.com/in/scottcraiguk?trk=public_profile_actor-name)\\n    \\n*   [Proud to share that Lavanda’s new AI MCP server is featured in\\xa0PBSA News! What does this mean? Easy access to AI tools embedded in the OpenPMS =…](https://www.linkedin.com/posts/fred-lerche-lerchenborg_lavanda-launches-ai-powered-mcp-server-to-activity-7384168740969697280-7Kg_)\\n    \\n     \\n    \\n    ### Proud to share that Lavanda’s new AI MCP server is featured in\\xa0PBSA News! What does this mean? Easy access to AI tools embedded in the OpenPMS =…\\n    \\n    #### Liked by [Scott Craig](https://uk.linkedin.com/in/scottcraiguk?trk=public_profile_actor-name)\\n    \\n*   [Migrating to mobile credentials that use NFC technology shouldn't have to involve ripping out and replacing reader hardware or being locked into a…](https://www.linkedin.com/posts/sentry-interactive_migrating-to-mobile-credentials-that-use-activity-7383470925272293376-Dftm)\\n    \\n     \\n    \\n    ### Migrating to mobile credentials that use NFC technology shouldn't have to involve ripping out and replacing reader hardware or being locked into a…\\n    \\n    #### Liked by [Scott Craig](https://uk.linkedin.com/in/scottcraiguk?trk=public_profile_actor-name)\\n    \\n*   [✨ Exciting news! A exciting new partnership! We’re grateful for the trust placed in us and and hard work that brought this together. Every new…](https://www.linkedin.com/posts/mitchell-singh_fresh-appointed-to-manage-biscuit-factory-activity-7377060193907519488-MAGs)\\n    \\n     \\n    \\n    ### ✨ Exciting news! A exciting new partnership! We’re grateful for the trust placed in us and and hard work that brought this together. Every new…\\n    \\n    #### Liked by [Scott Craig](https://uk.linkedin.com/in/scottcraiguk?trk=public_profile_actor-name)\\n    \\n*   [🏃\\u200d♂️ Wilf Takes the Win! 🏆 Student Wilf in Year 8 upgraded his 4th place finish last year to claim first place at the Junior Great North Run, the…](https://www.linkedin.com/posts/reading-blue-coat_readingbluecoat-studentspotlight-juniorgreatnorthrun-activity-7382399644527501312-IB1e)\\n    \\n     \\n    \\n    ### 🏃\\u200d♂️ Wilf Takes the Win! 🏆 Student Wilf in Year 8 upgraded his 4th place finish last year to claim first place at the Junior Great North Run, the…\\n    \\n    #### Liked by [Scott Craig](https://uk.linkedin.com/in/scottcraiguk?trk=public_profile_actor-name)\\n    \\n*   [Good News for the FinTech Market in Dublin with plans to create jobs in Engineering, Product, Operations and Sales. https://lnkd.in/eaAXJda7](https://www.linkedin.com/posts/orla-craig_stripe-opens-its-new-dublin-headquarters-activity-7382349649736671232-bjFL)\\n    \\n     \\n    \\n    ### Good News for the FinTech Market in Dublin with plans to create jobs in Engineering, Product, Operations and Sales. https://lnkd.in/eaAXJda7\\n    \\n    #### Liked by [Scott Craig](https://uk.linkedin.com/in/scottcraiguk?trk=public_profile_actor-name)\\n    \\n*   [📸 I pulled out the pic of our first office this week... 😬 ➡️ 2 Year Contract, paid an extra £56pcm for a window overlooking the Bracknell Peel…](https://www.linkedin.com/posts/ian-macbeth-5190a926_i-pulled-out-the-pic-of-our-first-office-activity-7382327793965170688-aY5j)\\n    \\n     \\n    \\n    ### 📸 I pulled out the pic of our first office this week... 😬 ➡️ 2 Year Contract, paid an extra £56pcm for a window overlooking the Bracknell Peel…\\n    \\n    #### Liked by [Scott Craig](https://uk.linkedin.com/in/scottcraiguk?trk=public_profile_actor-name)\\n    \\n*   [A brilliant day yesterday hosting prospective clients at our Gartner CIO Executive Briefing in Paris. Attendees were able to hear the best…](https://www.linkedin.com/posts/stephendancey86_a-brilliant-day-yesterday-hosting-prospective-activity-7382327211963609088-OVdk)\\n    \\n     \\n    \\n    ### A brilliant day yesterday hosting prospective clients at our Gartner CIO Executive Briefing in Paris. Attendees were able to hear the best…\\n    \\n    #### Liked by [Scott Craig](https://uk.linkedin.com/in/scottcraiguk?trk=public_profile_actor-name)\\n    \\n*   [Cassidy Group's Beckton House PBSA scheme to reach major milestone: https://lnkd.in/eSSTJ2mT #pbsanews #pbsa #construction #residential…](https://www.linkedin.com/posts/pbsa-news_cassidys-beckton-house-pbsa-scheme-to-reach-activity-7382010618620301312-dUvY)\\n    \\n     \\n    \\n    ### Cassidy Group's Beckton House PBSA scheme to reach major milestone: https://lnkd.in/eSSTJ2mT #pbsanews #pbsa #construction #residential…\\n    \\n    #### Liked by [Scott Craig](https://uk.linkedin.com/in/scottcraiguk?trk=public_profile_actor-name)\\n    \\n\\n## View Scott’s full profile\\n\\n*   See who you know in common\\n*   Get introduced\\n*   Contact Scott directly\\n\\n[Join to view full profile](https://www.linkedin.com/signup/public-profile-join?vieweeVanityName=scottcraiguk&trk=public_profile_bottom-cta-banner)\\n\\n## Sign in\\n\\nStay updated on your professional world\\n\\n[Sign in](https://www.linkedin.com/login?session_redirect=https%3A%2F%2Fuk%2Elinkedin%2Ecom%2Fin%2Fscottcraiguk&fromSignIn=true&trk=public_profile_xandr-ad-fallback_signin)\\n\\nBy clicking Continue to join or sign in, you agree to LinkedIn’s [User Agreement](/legal/user-agreement?trk=public_profile_auth-button_user-agreement), [Privacy Policy](/legal/privacy-policy?trk=public_profile_auth-button_privacy-policy), and [Cookie Policy](/legal/cookie-policy?trk=public_profile_auth-button_cookie-policy).\\n\\nNew to LinkedIn? [Join now](https://www.linkedin.com/signup/public-profile-join?vieweeVanityName=scottcraiguk&trk=public_profile_xandr-ad-fallback_join-link)\\n\\n## Other similar profiles\\n\\n*   [Colleen O'Connor](https://uk.linkedin.com/in/colleen-o-connor-a4b11a36)\\n    \\n    ### Colleen O'Connor\\n    \\n    London\\n    \\n    [Connect](https://www.linkedin.com/login?session_redirect=https%3A%2F%2Fuk.linkedin.com%2Fin%2Fcolleen-o-connor-a4b11a36&fromSignIn=true&trk=public_profile_browsemap_browse-map_connect-button)\\n    \\n*   [Milena Kirandjiska](https://uk.linkedin.com/in/milenakirandjiska)\\n    \\n    ### Milena Kirandjiska\\n    \\n    London\\n    \\n    [Connect](https://www.linkedin.com/login?session_redirect=https%3A%2F%2Fuk.linkedin.com%2Fin%2Fmilenakirandjiska&fromSignIn=true&trk=public_profile_browsemap_browse-map_connect-button)\\n    \\n*   [Carina Brasil da Cunha](https://uk.linkedin.com/in/carinabrasilcunha)\\n    \\n    ### Carina Brasil da Cunha\\n    \\n    London\\n    \\n    [Connect](https://www.linkedin.com/login?session_redirect=https%3A%2F%2Fuk.linkedin.com%2Fin%2Fcarinabrasilcunha&fromSignIn=true&trk=public_profile_browsemap_browse-map_connect-button)\\n    \\n*   [Nigel Ellis-Goodwin](https://uk.linkedin.com/in/nigel-goodwin)\\n    \\n    ### Nigel Ellis-Goodwin\\n    \\n    Sheffield\\n    \\n    [Connect](https://www.linkedin.com/login?session_redirect=https%3A%2F%2Fuk.linkedin.com%2Fin%2Fnigel-goodwin&fromSignIn=true&trk=public_profile_browsemap_browse-map_connect-button)\\n    \\n*   [Priyanka Roy](https://uk.linkedin.com/in/roypriyanka)\\n    \\n    ### Priyanka Roy\\n    \\n    London\\n    \\n    [Connect](https://www.linkedin.com/login?session_redirect=https%3A%2F%2Fuk.linkedin.com%2Fin%2Froypriyanka&fromSignIn=true&trk=public_profile_browsemap_browse-map_connect-button)\\n    \\n*   [Ameet Shah](https://uk.linkedin.com/in/ameetshah15)\\n    \\n    ### Ameet Shah\\n    \\n    Isleworth\\n    \\n    [Connect](https://www.linkedin.com/login?session_redirect=https%3A%2F%2Fuk.linkedin.com%2Fin%2Fameetshah15&fromSignIn=true&trk=public_profile_browsemap_browse-map_connect-button)\\n    \\n*   [Meagan Nickell](https://uk.linkedin.com/in/meagan-nickell)\\n    \\n    ### Meagan Nickell\\n    \\n    London\\n    \\n    [Connect](https://www.linkedin.com/login?session_redirect=https%3A%2F%2Fuk.linkedin.com%2Fin%2Fmeagan-nickell&fromSignIn=true&trk=public_profile_browsemap_browse-map_connect-button)\\n    \\n*   [Alexia Parsons](https://uk.linkedin.com/in/alexia-parsons-37567345)\\n    \\n    ### Alexia Parsons\\n    \\n    Greater Oxford Area\\n    \\n    [Connect](https://www.linkedin.com/login?session_redirect=https%3A%2F%2Fuk.linkedin.com%2Fin%2Falexia-parsons-37567345&fromSignIn=true&trk=public_profile_browsemap_browse-map_connect-button)\\n    \\n*   [Rachael Alderlieste](https://ie.linkedin.com/in/rachael-alderlieste)\\n    \\n    ### Rachael Alderlieste\\n    \\n    20+ years crafting beautiful customer experiences | 100% annual retention achieved ✅ | I build long and valuable customer relationships | Director of CX at Invotra\\n    \\n    Dublin\\n    \\n    [Connect](https://www.linkedin.com/login?session_redirect=https%3A%2F%2Fie.linkedin.com%2Fin%2Frachael-alderlieste&fromSignIn=true&trk=public_profile_browsemap_browse-map_connect-button)\\n    \\n*   [James Free](https://uk.linkedin.com/in/jtfree)\\n    \\n    ### James Free\\n    \\n    London\\n    \\n    [Connect](https://www.linkedin.com/login?session_redirect=https%3A%2F%2Fuk.linkedin.com%2Fin%2Fjtfree&fromSignIn=true&trk=public_profile_browsemap_browse-map_connect-button)\\n    \\n*   [David Collard](https://uk.linkedin.com/in/davidcollard)\\n    \\n    ### David Collard\\n    \\n    London\\n    \\n    [Connect](https://www.linkedin.com/login?session_redirect=https%3A%2F%2Fuk.linkedin.com%2Fin%2Fdavidcollard&fromSignIn=true&trk=public_profile_browsemap_browse-map_connect-button)\\n    \\n*   [Jon Henshall](https://uk.linkedin.com/in/jonhenshall)\\n    \\n    ### Jon Henshall\\n    \\n    Reading\\n    \\n    [Connect](https://www.linkedin.com/login?session_redirect=https%3A%2F%2Fuk.linkedin.com%2Fin%2Fjonhenshall&fromSignIn=true&trk=public_profile_browsemap_browse-map_connect-button)\\n    \\n*   [Ximena Ormaechea](https://uk.linkedin.com/in/ximenaormaechea)\\n    \\n    ### Ximena Ormaechea\\n    \\n    London\\n    \\n    [Connect](https://www.linkedin.com/login?session_redirect=https%3A%2F%2Fuk.linkedin.com%2Fin%2Fximenaormaechea&fromSignIn=true&trk=public_profile_browsemap_browse-map_connect-button)\\n    \\n*   [Vicky Hunter](https://uk.linkedin.com/in/vicky-hunter-10144521)\\n    \\n    ### Vicky Hunter\\n    \\n    Blackburn\\n    \\n    [Connect](https://www.linkedin.com/login?session_redirect=https%3A%2F%2Fuk.linkedin.com%2Fin%2Fvicky-hunter-10144521&fromSignIn=true&trk=public_profile_browsemap_browse-map_connect-button)\\n    \\n*   [Laura Howie](https://uk.linkedin.com/in/laura-howie)\\n    \\n    ### Laura Howie\\n    \\n    Greater Dundee Area\\n    \\n    [Connect](https://www.linkedin.com/login?session_redirect=https%3A%2F%2Fuk.linkedin.com%2Fin%2Flaura-howie&fromSignIn=true&trk=public_profile_browsemap_browse-map_connect-button)\\n    \\n*   [Jamal Blades](https://uk.linkedin.com/in/jamal-blades)\\n    \\n    ### Jamal Blades\\n    \\n    London\\n    \\n    [Connect](https://www.linkedin.com/login?session_redirect=https%3A%2F%2Fuk.linkedin.com%2Fin%2Fjamal-blades&fromSignIn=true&trk=public_profile_browsemap_browse-map_connect-button)\\n    \\n*   [Natalie Fraser](https://uk.linkedin.com/in/natalie-fraser-37267627)\\n    \\n    ### Natalie Fraser\\n    \\n    Greater London\\n    \\n    [Connect](https://www.linkedin.com/login?session_redirect=https%3A%2F%2Fuk.linkedin.com%2Fin%2Fnatalie-fraser-37267627&fromSignIn=true&trk=public_profile_browsemap_browse-map_connect-button)\\n    \\n*   [Bekkie Wetz](https://uk.linkedin.com/in/bekkie-wetz-65550729)\\n    \\n    ### Bekkie Wetz\\n    \\n    London\\n    \\n    [Connect](https://www.linkedin.com/login?session_redirect=https%3A%2F%2Fuk.linkedin.com%2Fin%2Fbekkie-wetz-65550729&fromSignIn=true&trk=public_profile_browsemap_browse-map_connect-button)\\n    \\n*   [Claire Derbyshire](https://uk.linkedin.com/in/clairederbyshire)\\n    \\n    ### Claire Derbyshire\\n    \\n    Kent\\n    \\n    [Connect](https://www.linkedin.com/login?session_redirect=https%3A%2F%2Fuk.linkedin.com%2Fin%2Fclairederbyshire&fromSignIn=true&trk=public_profile_browsemap_browse-map_connect-button)\\n    \\n\\nShow more profiles Show fewer profiles\\n\\n## Explore collaborative articles\\n\\nWe’re unlocking community knowledge in a new way. Experts add insights directly into each article, started with the help of AI.\\n\\n[Explore More](https://www.linkedin.com/pulse/topics/home/)\\n\\n## Others named **Scott Craig** in **United Kingdom**\\n\\n*   [\\n    \\n    ### Scott Craig\\n    \\n    Regional Key Account Manager - EU & IMEA\\n    \\n    Greater Oxford Area\\n    \\n    \\n    \\n    ](https://uk.linkedin.com/in/scott-craig-34154683?trk=public_profile_samename-profile)\\n*   [\\n    \\n    ### Scott Craig\\n    \\n    IT Support Engineer\\n    \\n    Barrow-In-Furness\\n    \\n    \\n    \\n    ](https://uk.linkedin.com/in/scott-craig-50658a13a?trk=public_profile_samename-profile)\\n*   [\\n    \\n    ### Scott Craig\\n    \\n    London\\n    \\n    \\n    \\n    ](https://uk.linkedin.com/in/scottrobertcraig?trk=public_profile_samename-profile)\\n*   [\\n    \\n    ### Scott Craig\\n    \\n    Managing Director at Living Space Furniture\\n    \\n    Motherwell\\n    \\n    \\n    \\n    ](https://uk.linkedin.com/in/scott-craig-21062510b?trk=public_profile_samename-profile)\\n\\n88 others named Scott Craig in United Kingdom are on LinkedIn\\n\\n[See others named **Scott Craig**](https://www.linkedin.com/pub/dir/Scott/Craig/gb-0-United-Kingdom?trk=public_profile_samename-see-all)\\n\\n## Add new skills with these courses\\n\\n*   [\\n    \\n    56m\\n    \\n    ### Data-Driven Sales Enablement\\n    \\n    \\n    \\n    ](https://www.linkedin.com/learning/data-driven-sales-enablement?trk=public_profile_recommended-course)\\n*   [\\n    \\n    55m\\n    \\n    ### Mastering the Business of Consultancy: Strategy, Marketing, and Client Success\\n    \\n    \\n    \\n    ](https://www.linkedin.com/learning/mastering-the-business-of-consultancy-strategy-marketing-and-client-success?trk=public_profile_recommended-course)\\n*   [\\n    \\n    57m\\n    \\n    ### Guided Lab: Real-World Data Engineering Project with Microsoft Fabric\\n    \\n    \\n    \\n    ](https://www.linkedin.com/learning/guided-lab-real-world-data-engineering-project-with-microsoft-fabric?trk=public_profile_recommended-course)\\n\\n[See all courses](https://nl.linkedin.com/learning/?trk=seo_pp_d_cymbii_more_m015_learning)\\n\\n*   LinkedIn © 2025\\n*   [About](https://about.linkedin.com?trk=public_profile_v3_desktop_footer-about)\\n*   [Accessibility](https://www.linkedin.com/accessibility?trk=public_profile_v3_desktop_footer-accessibility)\\n*   [User Agreement](https://www.linkedin.com/legal/user-agreement?trk=public_profile_v3_desktop_footer-user-agreement)\\n*   [Privacy Policy](https://www.linkedin.com/legal/privacy-policy?trk=public_profile_v3_desktop_footer-privacy-policy)\\n*   [Cookie Policy](https://www.linkedin.com/legal/cookie-policy?trk=public_profile_v3_desktop_footer-cookie-policy)\\n*   [Copyright Policy](https://www.linkedin.com/legal/copyright-policy?trk=public_profile_v3_desktop_footer-copyright-policy)\\n*   [Brand Policy](https://brand.linkedin.com/policies?trk=public_profile_v3_desktop_footer-brand-policy)\\n*   [Guest Controls](https://www.linkedin.com/psettings/guest-controls?trk=public_profile_v3_desktop_footer-guest-controls)\\n*   [Community Guidelines](https://www.linkedin.com/legal/professional-community-policies?trk=public_profile_v3_desktop_footer-community-guide)\\n*   *   العربية (Arabic)\\n    *   বাংলা (Bangla)\\n    *   Čeština (Czech)\\n    *   Dansk (Danish)\\n    *   Deutsch (German)\\n    *   Ελληνικά (Greek)\\n    *   **English (English)**\\n    *   Español (Spanish)\\n    *   فارسی (Persian)\\n    *   Suomi (Finnish)\\n    *   Français (French)\\n    *   हिंदी (Hindi)\\n    *   Magyar (Hungarian)\\n    *   Bahasa Indonesia (Indonesian)\\n    *   Italiano (Italian)\\n    *   עברית (Hebrew)\\n    *   日本語 (Japanese)\\n    *   한국어 (Korean)\\n    *   मराठी (Marathi)\\n    *   Bahasa Malaysia (Malay)\\n    *   Nederlands (Dutch)\\n    *   Norsk (Norwegian)\\n    *   ਪੰਜਾਬੀ (Punjabi)\\n    *   Polski (Polish)\\n    *   Português (Portuguese)\\n    *   Română (Romanian)\\n    *   Русский (Russian)\\n    *   Svenska (Swedish)\\n    *   తెలుగు (Telugu)\\n    *   ภาษาไทย (Thai)\\n    *   Tagalog (Tagalog)\\n    *   Türkçe (Turkish)\\n    *   Українська (Ukrainian)\\n    *   Tiếng Việt (Vietnamese)\\n    *   简体中文 (Chinese (Simplified))\\n    *   正體中文 (Chinese (Traditional))\\n    \\n    Language\\n    \\n\\n  \\n\\nAgree & Join LinkedIn\\n\\nBy clicking Continue to join or sign in, you agree to LinkedIn’s [User Agreement](/legal/user-agreement?trk=linkedin-tc_auth-button_user-agreement), [Privacy Policy](/legal/privacy-policy?trk=linkedin-tc_auth-button_privacy-policy), and [Cookie Policy](/legal/cookie-policy?trk=linkedin-tc_auth-button_cookie-policy).\\n\\nLinkedIn\\n\\nLinkedIn is better on the app\\n\\nDon’t have the app? Get it in the Microsoft Store.\\n\\n[Open the app](ms-windows-store://pdp/?ProductId=9WZDNCRFJ4Q7&mode=mini&cid=guest_desktop_upsell)\\n\\n![](https://static.licdn.com/aero-v1/sc/h/9c8pery4andzj6ohjkjp54ma2)\\n\\n## View Scott’s full profile\\n\\nSign in\\n\\n## Welcome back\\n\\nEmail or phone\\n\\nPassword\\n\\n Show\\n\\n \\n\\n[Forgot password?](https://www.linkedin.com/uas/request-password-reset?trk=public_profile_contextual-sign-in-modal_sign-in-modal_forgot_password)  Sign in\\n\\nor\\n\\nBy clicking Continue to join or sign in, you agree to LinkedIn’s [User Agreement](/legal/user-agreement?trk=public_profile_contextual-sign-in-modal_sign-in-modal_auth-button_user-agreement), [Privacy Policy](/legal/privacy-policy?trk=public_profile_contextual-sign-in-modal_sign-in-modal_auth-button_privacy-policy), and [Cookie Policy](/legal/cookie-policy?trk=public_profile_contextual-sign-in-modal_sign-in-modal_auth-button_cookie-policy).\\n\\nNew to LinkedIn? [Join now](https://www.linkedin.com/signup/public-profile-join?vieweeVanityName=scottcraiguk&trk=public_profile_contextual-sign-in-modal_sign-in-modal_join-link)\\n\\nor\\n\\nNew to LinkedIn? [Join now](https://www.linkedin.com/signup/public-profile-join?vieweeVanityName=scottcraiguk&trk=public_profile_contextu\",\n",
       "  'source': 'Bright Data (fresh)'}}"
      ]
     },
     "execution_count": 60,
     "metadata": {},
     "output_type": "execute_result"
    }
   ],
   "source": []
  },
  {
   "cell_type": "code",
   "execution_count": 27,
   "id": "619f8cfe",
   "metadata": {},
   "outputs": [
    {
     "name": "stdout",
     "output_type": "stream",
     "text": [
      "\n",
      "- Изучи его линкедин. Изучи компанию. По POV Framework напиши письмо высочайшего качества.\n",
      "- Для каждого проанализированного лида надо дать оценку релевантности и порекомендовать время для отправкит письма (по МСК)\n",
      "- Пиши тут, не в документ Если bright_data не получилось - попробуй еще раз.\n",
      "- Оцени релевантность лида проекту (КОРОТКО).\n",
      "- LINKEDIN: linkedin.com/in/scottcraiguk\n",
      "- P.S. Меня зовут Michael. Almas - ошибка в документах.\n",
      "\n",
      "EMAIL: scott.craig@getlavanda.com\n"
     ]
    }
   ],
   "source": [
    "# Пример использования\n",
    "lead = get_lead(\n",
    "    \"../data/results.json\", \n",
    "    73,\n",
    "    enable_filter=True\n",
    ")\n",
    "\n",
    "template = f'''\n",
    "- Изучи его линкедин. Изучи компанию. По POV Framework напиши письмо высочайшего качества.\n",
    "- Для каждого проанализированного лида надо дать оценку релевантности и порекомендовать время для отправкит письма (по МСК)\n",
    "- Пиши тут, не в документ Если bright_data не получилось - попробуй еще раз.\n",
    "- Оцени релевантность лида проекту (КОРОТКО).\n",
    "- LINKEDIN: {lead['linkedin_url']}\n",
    "- P.S. Меня зовут Michael. Almas - ошибка в документах.\n",
    "'''\n",
    "print(template)\n",
    "\n",
    "print(f\"EMAIL: {lead['email']}\")"
   ]
  },
  {
   "cell_type": "code",
   "execution_count": 4,
   "id": "bd6b44de",
   "metadata": {},
   "outputs": [],
   "source": [
    "# explore_lead(\"../data/results2.json\", 8, filter_relevance=True)"
   ]
  },
  {
   "cell_type": "code",
   "execution_count": 1,
   "id": "f25b40a0",
   "metadata": {},
   "outputs": [
    {
     "ename": "NameError",
     "evalue": "name 'pd' is not defined",
     "output_type": "error",
     "traceback": [
      "\u001b[31m---------------------------------------------------------------------------\u001b[39m",
      "\u001b[31mNameError\u001b[39m                                 Traceback (most recent call last)",
      "\u001b[36mCell\u001b[39m\u001b[36m \u001b[39m\u001b[32mIn[1]\u001b[39m\u001b[32m, line 1\u001b[39m\n\u001b[32m----> \u001b[39m\u001b[32m1\u001b[39m letters_df = \u001b[43mpd\u001b[49m.read_csv(\u001b[33m'\u001b[39m\u001b[33m/home/mikhail/Documents/code/Agents/outreach_orchestrator/data/output/test_results.csv\u001b[39m\u001b[33m'\u001b[39m)\n",
      "\u001b[31mNameError\u001b[39m: name 'pd' is not defined"
     ]
    }
   ],
   "source": [
    "letters_df = pd.read_csv('/home/mikhail/Documents/code/Agents/outreach_orchestrator/data/output/test_results.csv')"
   ]
  },
  {
   "cell_type": "code",
   "execution_count": 126,
   "id": "9c2ebb0f",
   "metadata": {},
   "outputs": [
    {
     "name": "stdout",
     "output_type": "stream",
     "text": [
      "linkedin.com/in/jessicapillado \n",
      "\n",
      "jessica.gonzalez@informediq.com\n",
      "\n",
      "Tuesday, 9:00 AM MSK\n",
      "\n",
      "Scaling challenges\n",
      "\n",
      "Hey Jessica,\n",
      "\n",
      "Saw Informed.IQ's recent partnerships with defi SOLUTIONS and Origence - impressive growth trajectory in the auto lending AI space.\n",
      "\n",
      "This typically means you're scaling customer success operations to support an expanding client base while maintaining the quality that earned you the 2023 Women In Auto Finance Award.\n",
      "\n",
      "Issue is - rapid growth often creates knowledge management gaps. New team members need quick access to institutional knowledge about client implementations and resolution approaches, while experienced team members leaving can take critical resolution patterns with them.\n",
      "\n",
      "Have you considered how knowledge-driven resolution processes could help maintain consistency during this scaling phase?\n",
      "\n",
      "Best,\n",
      "Almas\n",
      "\n",
      "PS: We help tech companies eliminate knowledge loss in ticket resolution, ensuring every team member has access to collective resolution expertise.\n"
     ]
    }
   ],
   "source": [
    "page_id = 2\n",
    "print(letters_df.iloc[page_id].linkedin_url, \"\\n\")\n",
    "print(letters_df.iloc[page_id].letter_body)"
   ]
  },
  {
   "cell_type": "markdown",
   "id": "044c2dc3",
   "metadata": {},
   "source": [
    "- Изучи его линкедин. Изучи компанию. По POV Framework напиши письмо высочайшего качества.\n",
    "- Для каждого проанализированного лида надо дать оценку релевантности и порекомендовать время для отправкит письма (по МСК)\n",
    "- Пиши тут, не в документ Если bright_data не получилось - попробуй еще раз.\n",
    "- Оцени релевантность лида проекту\n",
    "- если не релевантен - не продолжай пайплайн\n",
    "- linkedin.com/in/nicolasluciani"
   ]
  },
  {
   "cell_type": "markdown",
   "id": "15df257b",
   "metadata": {},
   "source": []
  }
 ],
 "metadata": {
  "kernelspec": {
   "display_name": ".venv",
   "language": "python",
   "name": "python3"
  },
  "language_info": {
   "codemirror_mode": {
    "name": "ipython",
    "version": 3
   },
   "file_extension": ".py",
   "mimetype": "text/x-python",
   "name": "python",
   "nbconvert_exporter": "python",
   "pygments_lexer": "ipython3",
   "version": "3.12.12"
  }
 },
 "nbformat": 4,
 "nbformat_minor": 5
}
