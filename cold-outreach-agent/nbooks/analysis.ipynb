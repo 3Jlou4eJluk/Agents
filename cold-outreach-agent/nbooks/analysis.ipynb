{
 "cells": [
  {
   "cell_type": "code",
   "execution_count": 3,
   "id": "6eb9b226",
   "metadata": {},
   "outputs": [],
   "source": [
    "import pandas as pd\n",
    "\n",
    "\n",
    "def get_lead(path: str, lead_no: int, enable_filter: bool = False) -> dict:\n",
    "    \"\"\"\n",
    "    Получить lead из JSON файла по номеру\n",
    "    \n",
    "    Args:\n",
    "        path: путь к JSON файлу с leads\n",
    "        lead_no: номер lead (индекс в массиве)\n",
    "        enable_filter: если True, возвращает только relevant leads\n",
    "    \n",
    "    Returns:\n",
    "        dict с данными lead\n",
    "    \"\"\"\n",
    "    df = pd.read_json(path)\n",
    "    \n",
    "    if enable_filter:\n",
    "        df = df[df['is_relevant'] == True]\n",
    "        df = df.reset_index(drop=True)\n",
    "    \n",
    "    if lead_no >= len(df):\n",
    "        raise IndexError(f\"Lead номер {lead_no} не найден. Всего leads: {len(df)}\")\n",
    "    \n",
    "    return df.iloc[lead_no].to_dict()\n",
    "\n",
    "\n",
    "def find_lead_by_name(path: str, name: str, enable_filter: bool = False) -> list[dict]:\n",
    "    \"\"\"\n",
    "    Найти leads по имени (точное совпадение, без учета регистра)\n",
    "    \n",
    "    Args:\n",
    "        path: путь к JSON файлу с leads\n",
    "        name: имя для поиска\n",
    "        enable_filter: если True, ищет только среди relevant leads\n",
    "    \n",
    "    Returns:\n",
    "        список словарей с найденными leads\n",
    "    \"\"\"\n",
    "    df = pd.read_json(path)\n",
    "    \n",
    "    if enable_filter:\n",
    "        df = df[df['is_relevant'] == True]\n",
    "    \n",
    "    # Поиск без учета регистра\n",
    "    found = df[df['name'].str.lower() == name.lower()]\n",
    "    \n",
    "    if found.empty:\n",
    "        return []\n",
    "    \n",
    "    return found.to_dict('records')"
   ]
  },
  {
   "cell_type": "code",
   "execution_count": 4,
   "id": "619f8cfe",
   "metadata": {},
   "outputs": [
    {
     "name": "stdout",
     "output_type": "stream",
     "text": [
      "LINKEDIN:\n",
      "linkedin.com/in/nicolasluciani\n",
      "EMAIL:\n",
      "nicolas.luciani@almapay.com\n"
     ]
    }
   ],
   "source": [
    "# Пример использования\n",
    "lead = get_lead(\n",
    "    \"../data/results.json\", \n",
    "    55,\n",
    "    enable_filter=True\n",
    ")\n",
    "print(f\"LINKEDIN:\\n{lead['linkedin_url']}\")\n",
    "print(f\"EMAIL:\\n{lead['email']}\")\n"
   ]
  },
  {
   "cell_type": "code",
   "execution_count": 4,
   "id": "bd6b44de",
   "metadata": {},
   "outputs": [],
   "source": [
    "# explore_lead(\"../data/results2.json\", 8, filter_relevance=True)"
   ]
  },
  {
   "cell_type": "code",
   "execution_count": null,
   "id": "d39970d7",
   "metadata": {},
   "outputs": [],
   "source": []
  }
 ],
 "metadata": {
  "kernelspec": {
   "display_name": ".venv",
   "language": "python",
   "name": "python3"
  },
  "language_info": {
   "codemirror_mode": {
    "name": "ipython",
    "version": 3
   },
   "file_extension": ".py",
   "mimetype": "text/x-python",
   "name": "python",
   "nbconvert_exporter": "python",
   "pygments_lexer": "ipython3",
   "version": "3.12.12"
  }
 },
 "nbformat": 4,
 "nbformat_minor": 5
}
