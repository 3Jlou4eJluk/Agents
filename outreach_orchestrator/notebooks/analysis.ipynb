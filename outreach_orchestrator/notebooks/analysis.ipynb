{
 "cells": [
  {
   "cell_type": "markdown",
   "metadata": {},
   "source": [
    "# Outreach Orchestrator - Results Analysis"
   ]
  },
  {
   "cell_type": "code",
   "execution_count": 1,
   "metadata": {},
   "outputs": [],
   "source": [
    "import pandas as pd\n",
    "import matplotlib.pyplot as plt\n",
    "import seaborn as sns\n",
    "\n",
    "sns.set_theme(style=\"whitegrid\")\n",
    "plt.rcParams['figure.figsize'] = (10, 6)"
   ]
  },
  {
   "cell_type": "markdown",
   "metadata": {},
   "source": [
    "## Load Data"
   ]
  },
  {
   "cell_type": "code",
   "execution_count": null,
   "metadata": {},
   "outputs": [],
   "source": [
    "df = pd.read_csv('../data/output/results.csv')\n",
    "df['processed_at'] = pd.to_datetime(df['processed_at'])\n",
    "\n",
    "print(f\"Total leads: {len(df)}\")\n",
    "df.head()"
   ]
  },
  {
   "cell_type": "markdown",
   "metadata": {},
   "source": [
    "## Funnel"
   ]
  },
  {
   "cell_type": "code",
   "execution_count": null,
   "metadata": {},
   "outputs": [],
   "source": [
    "total = len(df)\n",
    "stage1_relevant = len(df[df['stage1_relevant'] == 'Yes'])\n",
    "stage2_completed = len(df[df['stage2_status'] == 'completed'])\n",
    "success = len(df[df['final_status'] == 'success'])\n",
    "\n",
    "print(f\"Total leads:        {total}\")\n",
    "print(f\"Stage 1 relevant:   {stage1_relevant} ({stage1_relevant/total*100:.1f}%)\")\n",
    "print(f\"Stage 2 completed:  {stage2_completed} ({stage2_completed/total*100:.1f}%)\")\n",
    "print(f\"Final success:      {success} ({success/total*100:.1f}%)\")"
   ]
  },
  {
   "cell_type": "code",
   "execution_count": null,
   "metadata": {},
   "outputs": [],
   "source": [
    "# Funnel visualization\n",
    "stages = ['Total', 'Stage 1\\nRelevant', 'Stage 2\\nCompleted', 'Success']\n",
    "values = [total, stage1_relevant, stage2_completed, success]\n",
    "\n",
    "fig, ax = plt.subplots()\n",
    "bars = ax.barh(stages, values, color=['#3498db', '#2ecc71', '#f39c12', '#e74c3c'])\n",
    "\n",
    "for i, (bar, val) in enumerate(zip(bars, values)):\n",
    "    pct = (val/total*100) if i > 0 else 100\n",
    "    ax.text(val + max(values)*0.02, i, f'{val} ({pct:.1f}%)', va='center', fontweight='bold')\n",
    "\n",
    "ax.set_xlabel('Leads')\n",
    "ax.set_title('Campaign Funnel')\n",
    "plt.tight_layout()\n",
    "plt.show()"
   ]
  },
  {
   "cell_type": "markdown",
   "metadata": {},
   "source": [
    "## Status Breakdown"
   ]
  },
  {
   "cell_type": "code",
   "execution_count": null,
   "metadata": {},
   "outputs": [],
   "source": [
    "print(\"Final status:\")\n",
    "print(df['final_status'].value_counts())\n",
    "\n",
    "print(\"\\nStage 2 status:\")\n",
    "print(df['stage2_status'].value_counts())"
   ]
  },
  {
   "cell_type": "markdown",
   "metadata": {},
   "source": [
    "## Top Rejection Reasons"
   ]
  },
  {
   "cell_type": "code",
   "execution_count": null,
   "metadata": {},
   "outputs": [],
   "source": [
    "# Stage 1 rejections\n",
    "rejected = df[df['stage1_relevant'] == 'No']\n",
    "print(f\"Stage 1 rejected: {len(rejected)}\\n\")\n",
    "print(rejected['stage1_reason'].value_counts().head(10))"
   ]
  },
  {
   "cell_type": "markdown",
   "metadata": {},
   "source": [
    "## Errors"
   ]
  },
  {
   "cell_type": "code",
   "execution_count": null,
   "metadata": {},
   "outputs": [],
   "source": [
    "errors = df[df['error'].notna()]\n",
    "print(f\"Errors: {len(errors)} ({len(errors)/len(df)*100:.1f}%)\")\n",
    "\n",
    "if len(errors) > 0:\n",
    "    print(\"\\nError types:\")\n",
    "    print(errors['error'].value_counts())"
   ]
  }
 ],
 "metadata": {
  "kernelspec": {
   "display_name": "notebooks",
   "language": "python",
   "name": "python3"
  },
  "language_info": {
   "codemirror_mode": {
    "name": "ipython",
    "version": 3
   },
   "file_extension": ".py",
   "mimetype": "text/x-python",
   "name": "python",
   "nbconvert_exporter": "python",
   "pygments_lexer": "ipython3",
   "version": "3.12.3"
  }
 },
 "nbformat": 4,
 "nbformat_minor": 4
}
